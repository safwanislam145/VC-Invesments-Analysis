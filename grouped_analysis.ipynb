{
 "cells": [
  {
   "cell_type": "markdown",
   "metadata": {},
   "source": [
    "# group data by Top categary and then run similarity analysis"
   ]
  },
  {
   "cell_type": "code",
   "execution_count": 2,
   "metadata": {},
   "outputs": [],
   "source": [
    "import pandas as pd\n",
    "import numpy as np\n",
    "import nltk\n",
    "from nltk.corpus import stopwords\n",
    "from nltk.tokenize import word_tokenize\n",
    "from nltk.stem import WordNetLemmatizer\n",
    "from sklearn.feature_extraction.text import TfidfVectorizer\n",
    "from sklearn.preprocessing import MinMaxScaler\n",
    "from sklearn.metrics.pairwise import cosine_similarity\n",
    "from scipy.spatial.distance import jaccard\n",
    "import matplotlib.pyplot as plt\n",
    "import seaborn as sns"
   ]
  },
  {
   "cell_type": "code",
   "execution_count": 3,
   "metadata": {},
   "outputs": [],
   "source": [
    "# initialize stopwords and lemmatizer\n",
    "stop_words = set(stopwords.words('english')) \n",
    "lemmatizer = WordNetLemmatizer()\n",
    "\n",
    "\n",
    "# function to tokenize and lemmatize text\n",
    "def preprocess_text(text):\n",
    "    # tokenize text\n",
    "    tokens = word_tokenize(text.lower())\n",
    "    # remove stopwords\n",
    "    clean_tokens = []\n",
    "    for word in tokens:\n",
    "        if word.isalnum() and word not in stop_words:\n",
    "            clean_tokens.append(word)\n",
    "    # lemmatize text\n",
    "    lemmatized_tokens = []\n",
    "    for word in clean_tokens:\n",
    "        lemmatized_tokens.append(lemmatizer.lemmatize(word))\n",
    "        \n",
    "    return ' '.join(lemmatized_tokens)"
   ]
  },
  {
   "cell_type": "code",
   "execution_count": 4,
   "metadata": {},
   "outputs": [],
   "source": [
    "# read data\n",
    "data = pd.read_csv('cleaned_data.csv')"
   ]
  },
  {
   "cell_type": "code",
   "execution_count": 5,
   "metadata": {},
   "outputs": [
    {
     "name": "stdout",
     "output_type": "stream",
     "text": [
      "0\n",
      "0\n"
     ]
    },
    {
     "data": {
      "text/html": [
       "<div>\n",
       "<style scoped>\n",
       "    .dataframe tbody tr th:only-of-type {\n",
       "        vertical-align: middle;\n",
       "    }\n",
       "\n",
       "    .dataframe tbody tr th {\n",
       "        vertical-align: top;\n",
       "    }\n",
       "\n",
       "    .dataframe thead th {\n",
       "        text-align: right;\n",
       "    }\n",
       "</style>\n",
       "<table border=\"1\" class=\"dataframe\">\n",
       "  <thead>\n",
       "    <tr style=\"text-align: right;\">\n",
       "      <th></th>\n",
       "      <th>Name</th>\n",
       "      <th>Website</th>\n",
       "      <th>Organization Id</th>\n",
       "      <th>Top Level Category</th>\n",
       "      <th>Secondary Category</th>\n",
       "      <th>Employee Count</th>\n",
       "      <th>Description</th>\n",
       "      <th>Sourcscrub Description</th>\n",
       "      <th>Description.1</th>\n",
       "      <th>Unified Description</th>\n",
       "      <th>cleaned_description</th>\n",
       "    </tr>\n",
       "  </thead>\n",
       "  <tbody>\n",
       "    <tr>\n",
       "      <th>0</th>\n",
       "      <td>ClosingLock</td>\n",
       "      <td>closinglock.com</td>\n",
       "      <td>223865172</td>\n",
       "      <td>Unknown</td>\n",
       "      <td>Unknown</td>\n",
       "      <td>21</td>\n",
       "      <td>Closinglock is a company that provides wire tr...</td>\n",
       "      <td>No Description</td>\n",
       "      <td>Real Estate Wire Fraud Prevention Solution</td>\n",
       "      <td>Closinglock is a company that provides wire tr...</td>\n",
       "      <td>closinglock company provides wire transfer sec...</td>\n",
       "    </tr>\n",
       "    <tr>\n",
       "      <th>1</th>\n",
       "      <td>Daloopa, Inc.</td>\n",
       "      <td>daloopa.com</td>\n",
       "      <td>284044302</td>\n",
       "      <td>IT Management</td>\n",
       "      <td>Data Extraction</td>\n",
       "      <td>226</td>\n",
       "      <td>Discover how the power of over 100 AI algorith...</td>\n",
       "      <td>Daloopa, Inc. is the only AI solution for inve...</td>\n",
       "      <td>AI-driven enterprise data that can be trusted</td>\n",
       "      <td>Discover how the power of over 100 AI algorith...</td>\n",
       "      <td>discover power 100 ai algorithm automate inves...</td>\n",
       "    </tr>\n",
       "    <tr>\n",
       "      <th>2</th>\n",
       "      <td>UpSmith</td>\n",
       "      <td>upsmith.com</td>\n",
       "      <td>283999461</td>\n",
       "      <td>Unknown</td>\n",
       "      <td>Unknown</td>\n",
       "      <td>11</td>\n",
       "      <td>Transforming the future of work.</td>\n",
       "      <td>UpSmith, Inc. is a provider of a skilled labor...</td>\n",
       "      <td>Significantly enhancing lives by giving people...</td>\n",
       "      <td>Transforming the future of work. UpSmith, Inc....</td>\n",
       "      <td>transforming future work upsmith provider skil...</td>\n",
       "    </tr>\n",
       "    <tr>\n",
       "      <th>3</th>\n",
       "      <td>Equal Ventures</td>\n",
       "      <td>equal.vc</td>\n",
       "      <td>160422940</td>\n",
       "      <td>Unknown</td>\n",
       "      <td>Unknown</td>\n",
       "      <td>5</td>\n",
       "      <td>Equal Ventures is a venture capital firm that ...</td>\n",
       "      <td>No Description</td>\n",
       "      <td>No Description</td>\n",
       "      <td>Equal Ventures is a venture capital firm that ...</td>\n",
       "      <td>equal venture venture capital firm focus bridg...</td>\n",
       "    </tr>\n",
       "    <tr>\n",
       "      <th>4</th>\n",
       "      <td>Fullpath</td>\n",
       "      <td>fullpath.com</td>\n",
       "      <td>288156669</td>\n",
       "      <td>Vertical Industry</td>\n",
       "      <td>Automotive</td>\n",
       "      <td>164</td>\n",
       "      <td>AutoLeadStar is automotive's first and leading...</td>\n",
       "      <td>AutoLeadStar, Inc. doing business as Fullpath ...</td>\n",
       "      <td>Developed a retail engagement platform for aut...</td>\n",
       "      <td>AutoLeadStar is automotive's first and leading...</td>\n",
       "      <td>autoleadstar automotive first leading customer...</td>\n",
       "    </tr>\n",
       "  </tbody>\n",
       "</table>\n",
       "</div>"
      ],
      "text/plain": [
       "             Name          Website  Organization Id Top Level Category  \\\n",
       "0     ClosingLock  closinglock.com        223865172            Unknown   \n",
       "1   Daloopa, Inc.      daloopa.com        284044302      IT Management   \n",
       "2         UpSmith      upsmith.com        283999461            Unknown   \n",
       "3  Equal Ventures         equal.vc        160422940            Unknown   \n",
       "4        Fullpath     fullpath.com        288156669  Vertical Industry   \n",
       "\n",
       "  Secondary Category  Employee Count  \\\n",
       "0            Unknown              21   \n",
       "1    Data Extraction             226   \n",
       "2            Unknown              11   \n",
       "3            Unknown               5   \n",
       "4         Automotive             164   \n",
       "\n",
       "                                         Description  \\\n",
       "0  Closinglock is a company that provides wire tr...   \n",
       "1  Discover how the power of over 100 AI algorith...   \n",
       "2                   Transforming the future of work.   \n",
       "3  Equal Ventures is a venture capital firm that ...   \n",
       "4  AutoLeadStar is automotive's first and leading...   \n",
       "\n",
       "                              Sourcscrub Description  \\\n",
       "0                                     No Description   \n",
       "1  Daloopa, Inc. is the only AI solution for inve...   \n",
       "2  UpSmith, Inc. is a provider of a skilled labor...   \n",
       "3                                     No Description   \n",
       "4  AutoLeadStar, Inc. doing business as Fullpath ...   \n",
       "\n",
       "                                       Description.1  \\\n",
       "0         Real Estate Wire Fraud Prevention Solution   \n",
       "1      AI-driven enterprise data that can be trusted   \n",
       "2  Significantly enhancing lives by giving people...   \n",
       "3                                     No Description   \n",
       "4  Developed a retail engagement platform for aut...   \n",
       "\n",
       "                                 Unified Description  \\\n",
       "0  Closinglock is a company that provides wire tr...   \n",
       "1  Discover how the power of over 100 AI algorith...   \n",
       "2  Transforming the future of work. UpSmith, Inc....   \n",
       "3  Equal Ventures is a venture capital firm that ...   \n",
       "4  AutoLeadStar is automotive's first and leading...   \n",
       "\n",
       "                                 cleaned_description  \n",
       "0  closinglock company provides wire transfer sec...  \n",
       "1  discover power 100 ai algorithm automate inves...  \n",
       "2  transforming future work upsmith provider skil...  \n",
       "3  equal venture venture capital firm focus bridg...  \n",
       "4  autoleadstar automotive first leading customer...  "
      ]
     },
     "execution_count": 5,
     "metadata": {},
     "output_type": "execute_result"
    }
   ],
   "source": [
    "# Preprocess the unified description (or choose one description column)\n",
    "data['cleaned_description'] = data['Unified Description'].dropna().apply(preprocess_text)\n",
    "\n",
    "# Check for missing categories\n",
    "print(data['Top Level Category'].isnull().sum())\n",
    "print(data['Secondary Category'].isnull().sum())\n",
    "\n",
    "\n",
    "# Preview the dataset\n",
    "data.head()"
   ]
  },
  {
   "cell_type": "code",
   "execution_count": 6,
   "metadata": {},
   "outputs": [
    {
     "data": {
      "text/plain": [
       "Index(['Name', 'Website', 'Organization Id', 'Top Level Category',\n",
       "       'Secondary Category', 'Employee Count', 'Description',\n",
       "       'Sourcscrub Description', 'Description.1', 'Unified Description',\n",
       "       'cleaned_description'],\n",
       "      dtype='object')"
      ]
     },
     "execution_count": 6,
     "metadata": {},
     "output_type": "execute_result"
    }
   ],
   "source": [
    "data.columns"
   ]
  },
  {
   "cell_type": "markdown",
   "metadata": {},
   "source": [
    "# Feature Engineering"
   ]
  },
  {
   "cell_type": "code",
   "execution_count": 7,
   "metadata": {},
   "outputs": [],
   "source": [
    "# Normalize Employee Count\n",
    "scaler = MinMaxScaler()\n",
    "data['Employee Count Scaled'] = scaler.fit_transform(data[['Employee Count']].fillna(0))\n",
    "\n",
    "# Preprocess Descriptions using cleaned_description\n",
    "tfidf = TfidfVectorizer(stop_words='english')\n",
    "descriptions_tfidf = tfidf.fit_transform(data['cleaned_description'].fillna(''))"
   ]
  },
  {
   "cell_type": "code",
   "execution_count": 36,
   "metadata": {},
   "outputs": [
    {
     "name": "stdout",
     "output_type": "stream",
     "text": [
      "1364\n"
     ]
    }
   ],
   "source": [
    "# Group by Top-Level Category\n",
    "grouped_data_top = data.groupby(['Top Level Category'])\n",
    "print(len(grouped_data_top))"
   ]
  },
  {
   "cell_type": "code",
   "execution_count": 24,
   "metadata": {},
   "outputs": [
    {
     "name": "stdout",
     "output_type": "stream",
     "text": [
      "Top Level Category\n",
      "vertical industry     14385\n",
      "unknown                4713\n",
      "marketing              4531\n",
      "erp                    4189\n",
      "hr                     4064\n",
      "                      ...  \n",
      " data privacy             1\n",
      "storage                   1\n",
      " staffing services        1\n",
      " other services           1\n",
      "security hardware         1\n",
      "Name: count, Length: 76, dtype: int64\n"
     ]
    }
   ],
   "source": [
    "# Split and lower case the 'Top Level Category' column\n",
    "split_category = data['Top Level Category'].str.lower().str.split(';')\n",
    "\n",
    "# Explode the lists into separate rows\n",
    "exploded_category = split_category.explode()\n",
    "\n",
    "# Count the occurrences of each category\n",
    "category_counts = exploded_category.value_counts()\n",
    "\n",
    "# Print the counts\n",
    "print(category_counts)\n"
   ]
  },
  {
   "cell_type": "code",
   "execution_count": 40,
   "metadata": {},
   "outputs": [
    {
     "name": "stdout",
     "output_type": "stream",
     "text": [
      "Index(['Name', 'Website', 'Organization Id', 'Top Level Category',\n",
      "       'Secondary Category', 'Employee Count', 'Description',\n",
      "       'Sourcscrub Description', 'Description.1', 'Unified Description',\n",
      "       'cleaned_description', 'Employee Count Scaled'],\n",
      "      dtype='object')\n"
     ]
    }
   ],
   "source": [
    "data = data.drop(columns=['Flattened Categories'])\n",
    "\n",
    "print(data.columns)"
   ]
  },
  {
   "cell_type": "code",
   "execution_count": 13,
   "metadata": {},
   "outputs": [],
   "source": [
    "def compute_similarity(group):\n",
    "    results = []\n",
    "    group_list = group.reset_index().to_dict('records')  # Convert DataFrame to list of dictionaries\n",
    "    n = len(group_list)\n",
    "    \n",
    "    for i in range(n):\n",
    "        for j in range(i + 1, n):\n",
    "            a, b = group_list[i], group_list[j]\n",
    "            \n",
    "            # Categories Similarity (Jaccard Similarity using sets)\n",
    "            categories_a = set(a['Top Level Category'].split('; ') + a['Secondary Category'].split('; '))\n",
    "            categories_b = set(b['Top Level Category'].split('; ') + b['Secondary Category'].split('; '))\n",
    "            \n",
    "            # Check for 'Unknown' categories\n",
    "            if 'Unknown' in categories_a or 'Unknown' in categories_b:\n",
    "                category_similarity = 0  # Default to 0 if any category is 'Unknown'\n",
    "                weight = 0  # Weight is 0 if any category is 'Unknown'\n",
    "            else:\n",
    "                category_similarity = len(categories_a.intersection(categories_b)) / len(categories_a.union(categories_b))\n",
    "                weight = 0.4  # Standard weight when categories are valid\n",
    "            \n",
    "            # Description Similarity (Cosine Similarity)\n",
    "            desc_a = descriptions_tfidf[a['index']].toarray()  # Access vector by DataFrame index\n",
    "            desc_b = descriptions_tfidf[b['index']].toarray()  # Access vector by DataFrame index\n",
    "            desc_similarity = cosine_similarity(desc_a, desc_b).item()\n",
    "            \n",
    "            # Employee Count Similarity\n",
    "            employee_similarity = 1 - abs(a['Employee Count Scaled'] - b['Employee Count Scaled'])\n",
    "            \n",
    "            # Composite Similarity\n",
    "            composite_similarity = (category_similarity * weight +\n",
    "                                     desc_similarity * 0.4 +\n",
    "                                     employee_similarity * 0.2)\n",
    "            \n",
    "            results.append({\n",
    "                'Item A': a['Name'],\n",
    "                'Item B': b['Name'],\n",
    "                'Category Similarity': category_similarity,\n",
    "                'Description Similarity': desc_similarity,\n",
    "                'Employee Similarity': employee_similarity,\n",
    "                'Composite Similarity': composite_similarity\n",
    "            })\n",
    "    \n",
    "    return pd.DataFrame(results)\n"
   ]
  },
  {
   "cell_type": "code",
   "execution_count": 45,
   "metadata": {},
   "outputs": [
    {
     "name": "stdout",
     "output_type": "stream",
     "text": [
      "Testing on subset of size: 10\n",
      "Item A: ClosingLock, Item B: UpSmith, Composite Similarity: 0.2029461696464465\n",
      "Item A: ClosingLock, Item B: Equal Ventures, Composite Similarity: 0.20484914325987644\n",
      "Item A: ClosingLock, Item B: Sadie Blue Software, Composite Similarity: 0.1999961436816031\n",
      "Item A: ClosingLock, Item B: QuikData, Composite Similarity: 0.1999966257214027\n",
      "Item A: ClosingLock, Item B: StructureFlow, Composite Similarity: 0.20220461877918092\n",
      "Item A: ClosingLock, Item B: DigitalOwl INST, Composite Similarity: 0.20341067432341695\n",
      "Item A: ClosingLock, Item B: Ganaz, Composite Similarity: 0.2026550379621859\n",
      "Item A: ClosingLock, Item B: Proxima, Composite Similarity: 0.2023053435609491\n",
      "Item A: ClosingLock, Item B: Syzl, Composite Similarity: 0.20212085172407493\n",
      "Item A: UpSmith, Item B: Equal Ventures, Composite Similarity: 0.19999855388060117\n",
      "Item A: UpSmith, Item B: Sadie Blue Software, Composite Similarity: 0.20291747316567238\n",
      "Item A: UpSmith, Item B: QuikData, Composite Similarity: 0.21061680718678522\n",
      "Item A: UpSmith, Item B: StructureFlow, Composite Similarity: 0.19999590266170328\n",
      "Item A: UpSmith, Item B: DigitalOwl INST, Composite Similarity: 0.20808050604276287\n",
      "Item A: UpSmith, Item B: Ganaz, Composite Similarity: 0.22739211724467517\n",
      "Item A: UpSmith, Item B: Proxima, Composite Similarity: 0.20220518179490157\n",
      "Item A: UpSmith, Item B: Syzl, Composite Similarity: 0.21072487987069308\n",
      "Item A: Equal Ventures, Item B: Sadie Blue Software, Composite Similarity: 0.2\n",
      "Item A: Equal Ventures, Item B: QuikData, Composite Similarity: 0.1999995179602004\n",
      "Item A: Equal Ventures, Item B: StructureFlow, Composite Similarity: 0.1999944565423044\n",
      "Item A: Equal Ventures, Item B: DigitalOwl INST, Composite Similarity: 0.2060110526404569\n",
      "Item A: Equal Ventures, Item B: Ganaz, Composite Similarity: 0.19999252838310597\n",
      "Item A: Equal Ventures, Item B: Proxima, Composite Similarity: 0.19998288758711363\n",
      "Item A: Equal Ventures, Item B: Syzl, Composite Similarity: 0.19999903592040078\n",
      "Item A: Sadie Blue Software, Item B: QuikData, Composite Similarity: 0.2743686089061381\n",
      "Item A: Sadie Blue Software, Item B: StructureFlow, Composite Similarity: 0.23094634436989556\n",
      "Item A: Sadie Blue Software, Item B: DigitalOwl INST, Composite Similarity: 0.20581711503519265\n",
      "Item A: Sadie Blue Software, Item B: Ganaz, Composite Similarity: 0.20439503897562808\n",
      "Item A: Sadie Blue Software, Item B: Proxima, Composite Similarity: 0.19998288758711363\n",
      "Item A: Sadie Blue Software, Item B: Syzl, Composite Similarity: 0.22511177376646643\n",
      "Item A: QuikData, Item B: StructureFlow, Composite Similarity: 0.19999493858210404\n",
      "Item A: QuikData, Item B: DigitalOwl INST, Composite Similarity: 0.19998385166671287\n",
      "Item A: QuikData, Item B: Ganaz, Composite Similarity: 0.207618633708743\n",
      "Item A: QuikData, Item B: Proxima, Composite Similarity: 0.19998336962691327\n",
      "Item A: QuikData, Item B: Syzl, Composite Similarity: 0.20220896339712977\n",
      "Item A: StructureFlow, Item B: DigitalOwl INST, Composite Similarity: 0.21783935355506373\n",
      "Item A: StructureFlow, Item B: Ganaz, Composite Similarity: 0.20226194096401953\n",
      "Item A: StructureFlow, Item B: Proxima, Composite Similarity: 0.19998843104480923\n",
      "Item A: StructureFlow, Item B: Syzl, Composite Similarity: 0.21563798993562536\n",
      "Item A: DigitalOwl INST, Item B: Ganaz, Composite Similarity: 0.20294001585746024\n",
      "Item A: DigitalOwl INST, Item B: Proxima, Composite Similarity: 0.20375944931256285\n",
      "Item A: DigitalOwl INST, Item B: Syzl, Composite Similarity: 0.2021329647219365\n",
      "Item A: Ganaz, Item B: Proxima, Composite Similarity: 0.2016864264413287\n",
      "Item A: Ganaz, Item B: Syzl, Composite Similarity: 0.20977829245144514\n",
      "Item A: Proxima, Item B: Syzl, Composite Similarity: 0.2021251866757533\n"
     ]
    }
   ],
   "source": [
    "if unknown_group is not None:\n",
    "    # Create a small subset (e.g., first 10 rows)\n",
    "    test_subset = unknown_group.head(10)  # Adjust size as needed\n",
    "    print(f\"Testing on subset of size: {len(test_subset)}\")\n",
    "    \n",
    "    # Compute similarity on the subset\n",
    "    result = compute_similarity(test_subset)\n",
    "    \n",
    "    # Print the results in a readable format\n",
    "    for index, row in result.iterrows():\n",
    "        print(f\"Item A: {row['Item A']}, Item B: {row['Item B']}, Composite Similarity: {row['Composite Similarity']}\")\n",
    "else:\n",
    "    print(\"No group found with category 'Unknown'\")\n"
   ]
  }
 ],
 "metadata": {
  "kernelspec": {
   "display_name": "base",
   "language": "python",
   "name": "python3"
  },
  "language_info": {
   "codemirror_mode": {
    "name": "ipython",
    "version": 3
   },
   "file_extension": ".py",
   "mimetype": "text/x-python",
   "name": "python",
   "nbconvert_exporter": "python",
   "pygments_lexer": "ipython3",
   "version": "3.12.4"
  }
 },
 "nbformat": 4,
 "nbformat_minor": 2
}
